{
  "cells": [
    {
      "cell_type": "markdown",
      "metadata": {
        "id": "view-in-github",
        "colab_type": "text"
      },
      "source": [
        "<a href=\"https://colab.research.google.com/github/KuntaMallikRaj/-LGMVIP-Web-Task-1/blob/main/copy_of_major.ipynb\" target=\"_parent\"><img src=\"https://colab.research.google.com/assets/colab-badge.svg\" alt=\"Open In Colab\"/></a>"
      ]
    },
    {
      "cell_type": "code",
      "source": [
        "!pip install catboost\n",
        "import pandas as pd\n",
        "import numpy as np\n",
        "import matplotlib.pyplot as plt\n",
        "\n",
        "from sklearn.model_selection import train_test_split\n",
        "from sklearn.preprocessing import OneHotEncoder, StandardScaler\n",
        "from sklearn.compose import ColumnTransformer\n",
        "from sklearn.pipeline import Pipeline\n",
        "from sklearn.metrics import r2_score, mean_squared_error\n",
        "\n",
        "# Models\n",
        "from sklearn.linear_model import LinearRegression\n",
        "from sklearn.tree import DecisionTreeRegressor\n",
        "from sklearn.ensemble import RandomForestRegressor\n",
        "from xgboost import XGBRegressor\n",
        "from lightgbm import LGBMRegressor\n",
        "from catboost import CatBoostRegressor\n",
        "from sklearn.svm import SVR\n",
        "from sklearn.neighbors import KNeighborsRegressor\n",
        "from sklearn.neural_network import MLPRegressor"
      ],
      "metadata": {
        "colab": {
          "base_uri": "https://localhost:8080/"
        },
        "id": "9ynHA1rm9bS7",
        "outputId": "6cf31d13-a204-495f-91ef-f0a60cba4927"
      },
      "execution_count": null,
      "outputs": [
        {
          "output_type": "stream",
          "name": "stdout",
          "text": [
            "Collecting catboost\n",
            "  Downloading catboost-1.2.8-cp311-cp311-manylinux2014_x86_64.whl.metadata (1.2 kB)\n",
            "Requirement already satisfied: graphviz in /usr/local/lib/python3.11/dist-packages (from catboost) (0.20.3)\n",
            "Requirement already satisfied: matplotlib in /usr/local/lib/python3.11/dist-packages (from catboost) (3.10.0)\n",
            "Requirement already satisfied: numpy<3.0,>=1.16.0 in /usr/local/lib/python3.11/dist-packages (from catboost) (2.0.2)\n",
            "Requirement already satisfied: pandas>=0.24 in /usr/local/lib/python3.11/dist-packages (from catboost) (2.2.2)\n",
            "Requirement already satisfied: scipy in /usr/local/lib/python3.11/dist-packages (from catboost) (1.15.2)\n",
            "Requirement already satisfied: plotly in /usr/local/lib/python3.11/dist-packages (from catboost) (5.24.1)\n",
            "Requirement already satisfied: six in /usr/local/lib/python3.11/dist-packages (from catboost) (1.17.0)\n",
            "Requirement already satisfied: python-dateutil>=2.8.2 in /usr/local/lib/python3.11/dist-packages (from pandas>=0.24->catboost) (2.9.0.post0)\n",
            "Requirement already satisfied: pytz>=2020.1 in /usr/local/lib/python3.11/dist-packages (from pandas>=0.24->catboost) (2025.2)\n",
            "Requirement already satisfied: tzdata>=2022.7 in /usr/local/lib/python3.11/dist-packages (from pandas>=0.24->catboost) (2025.2)\n",
            "Requirement already satisfied: contourpy>=1.0.1 in /usr/local/lib/python3.11/dist-packages (from matplotlib->catboost) (1.3.2)\n",
            "Requirement already satisfied: cycler>=0.10 in /usr/local/lib/python3.11/dist-packages (from matplotlib->catboost) (0.12.1)\n",
            "Requirement already satisfied: fonttools>=4.22.0 in /usr/local/lib/python3.11/dist-packages (from matplotlib->catboost) (4.57.0)\n",
            "Requirement already satisfied: kiwisolver>=1.3.1 in /usr/local/lib/python3.11/dist-packages (from matplotlib->catboost) (1.4.8)\n",
            "Requirement already satisfied: packaging>=20.0 in /usr/local/lib/python3.11/dist-packages (from matplotlib->catboost) (24.2)\n",
            "Requirement already satisfied: pillow>=8 in /usr/local/lib/python3.11/dist-packages (from matplotlib->catboost) (11.2.1)\n",
            "Requirement already satisfied: pyparsing>=2.3.1 in /usr/local/lib/python3.11/dist-packages (from matplotlib->catboost) (3.2.3)\n",
            "Requirement already satisfied: tenacity>=6.2.0 in /usr/local/lib/python3.11/dist-packages (from plotly->catboost) (9.1.2)\n",
            "Downloading catboost-1.2.8-cp311-cp311-manylinux2014_x86_64.whl (99.2 MB)\n",
            "\u001b[2K   \u001b[90m━━━━━━━━━━━━━━━━━━━━━━━━━━━━━━━━━━━━━━━━\u001b[0m \u001b[32m99.2/99.2 MB\u001b[0m \u001b[31m9.9 MB/s\u001b[0m eta \u001b[36m0:00:00\u001b[0m\n",
            "\u001b[?25hInstalling collected packages: catboost\n",
            "Successfully installed catboost-1.2.8\n"
          ]
        }
      ]
    },
    {
      "cell_type": "code",
      "source": [
        "df = pd.read_excel(\"hyderabad_house_prices_3000.xlsx\")\n",
        "\n",
        "# Define features and target\n",
        "X = df[[\"Location\", \"Size\", \"Total_Sqft\", \"Bath\", \"Balcony\", \"Year_Built\"]]\n",
        "y = df[\"Price\"]\n",
        "\n",
        "# Split into train-test sets\n",
        "X_train, X_test, y_train, y_test = train_test_split(X, y, test_size=0.2, random_state=42)\n",
        "\n",
        "# Preprocessing\n",
        "categorical_features = [\"Location\", \"Size\"]\n",
        "numerical_features = [\"Total_Sqft\", \"Bath\", \"Balcony\", \"Year_Built\"]\n",
        "\n",
        "preprocessor = ColumnTransformer([\n",
        "    (\"cat\", OneHotEncoder(handle_unknown=\"ignore\"), categorical_features),\n",
        "    (\"num\", StandardScaler(), numerical_features)\n",
        "])\n",
        "print(X)\n",
        "print(y)\n"
      ],
      "metadata": {
        "colab": {
          "base_uri": "https://localhost:8080/"
        },
        "id": "XTKXTY5P9kIv",
        "outputId": "564df919-7553-4817-b113-c046f3197a7b"
      },
      "execution_count": null,
      "outputs": [
        {
          "output_type": "stream",
          "name": "stdout",
          "text": [
            "         Location   Size  Total_Sqft  Bath  Balcony  Year_Built\n",
            "0       Manikonda  1 BHK         945     4        0        2006\n",
            "1        Madhapur  3 BHK        2968     2        1        2024\n",
            "2        LB Nagar  1 BHK        2379     4        2        1997\n",
            "3        Kompally  3 BHK         975     1        0        2016\n",
            "4        Begumpet  3 BHK         743     4        0        2004\n",
            "...           ...    ...         ...   ...      ...         ...\n",
            "2995     Begumpet  4 BHK        4000     4        0        2002\n",
            "2996    Manikonda  4 BHK        1969     1        0        2019\n",
            "2997     Kompally  3 BHK        2993     4        2        1999\n",
            "2998     Madhapur  1 BHK        3357     1        0        2009\n",
            "2999  Hitech City  2 BHK        1029     2        2        2017\n",
            "\n",
            "[3000 rows x 6 columns]\n",
            "0        60\n",
            "1       188\n",
            "2        99\n",
            "3        52\n",
            "4        45\n",
            "       ... \n",
            "2995    182\n",
            "2996    100\n",
            "2997    159\n",
            "2998    113\n",
            "2999     74\n",
            "Name: Price, Length: 3000, dtype: int64\n"
          ]
        }
      ]
    },
    {
      "cell_type": "code",
      "source": [
        "models = {\n",
        "    \"Linear Regression\": LinearRegression(),\n",
        "    \"Decision Tree\": DecisionTreeRegressor(random_state=42),\n",
        "    \"Random Forest\": RandomForestRegressor(n_estimators=100, random_state=42),\n",
        "    \"XGBoost\": XGBRegressor(n_estimators=100, random_state=42, verbosity=0),\n",
        "    \"LightGBM\": LGBMRegressor(n_estimators=100, random_state=42),\n",
        "    \"CatBoost\": CatBoostRegressor(verbose=0, random_state=42),\n",
        "    \"SVR\": SVR(),\n",
        "    \"KNN\": KNeighborsRegressor(n_neighbors=5),\n",
        "    \"Neural Network\": MLPRegressor(hidden_layer_sizes=(64, 64), max_iter=500, random_state=42)\n",
        "}"
      ],
      "metadata": {
        "id": "SFsffmGR9k-3"
      },
      "execution_count": null,
      "outputs": []
    },
    {
      "cell_type": "code",
      "source": [
        "results = {}\n",
        "trained_pipelines = {}\n",
        "\n",
        "print(\"Training models and evaluating performance...\\n\")\n",
        "for name, model in models.items():\n",
        "    pipeline = Pipeline([\n",
        "        (\"preprocessor\", preprocessor),\n",
        "        (\"regressor\", model)\n",
        "    ])\n",
        "    pipeline.fit(X_train, y_train)\n",
        "    y_pred = pipeline.predict(X_test)\n",
        "    r2 = r2_score(y_test, y_pred)\n",
        "    rmse = np.sqrt(mean_squared_error(y_test, y_pred))  # Fixed for compatibility\n",
        "    results[name] = {\"R2 Score\": r2, \"RMSE\": rmse}\n",
        "    trained_pipelines[name] = pipeline\n",
        "    print(f\"{name}: R2 = {r2:.4f}, RMSE = {rmse:.2f} Lakhs\")"
      ],
      "metadata": {
        "colab": {
          "base_uri": "https://localhost:8080/"
        },
        "id": "hqNpSXao9pX2",
        "outputId": "20ff8b1d-3514-4a60-b3fe-4e5f1cb0a75c"
      },
      "execution_count": null,
      "outputs": [
        {
          "output_type": "stream",
          "name": "stdout",
          "text": [
            "Training models and evaluating performance...\n",
            "\n",
            "Linear Regression: R2 = 0.7587, RMSE = 27.76 Lakhs\n",
            "Decision Tree: R2 = 0.4648, RMSE = 41.35 Lakhs\n",
            "Random Forest: R2 = 0.7335, RMSE = 29.18 Lakhs\n",
            "XGBoost: R2 = 0.6848, RMSE = 31.73 Lakhs\n"
          ]
        },
        {
          "output_type": "stream",
          "name": "stderr",
          "text": [
            "/usr/local/lib/python3.11/dist-packages/sklearn/utils/deprecation.py:151: FutureWarning: 'force_all_finite' was renamed to 'ensure_all_finite' in 1.6 and will be removed in 1.8.\n",
            "  warnings.warn(\n",
            "/usr/local/lib/python3.11/dist-packages/sklearn/utils/deprecation.py:151: FutureWarning: 'force_all_finite' was renamed to 'ensure_all_finite' in 1.6 and will be removed in 1.8.\n",
            "  warnings.warn(\n"
          ]
        },
        {
          "output_type": "stream",
          "name": "stdout",
          "text": [
            "[LightGBM] [Info] Auto-choosing row-wise multi-threading, the overhead of testing was 0.000186 seconds.\n",
            "You can set `force_row_wise=true` to remove the overhead.\n",
            "And if memory is not enough, you can set `force_col_wise=true`.\n",
            "[LightGBM] [Info] Total Bins 324\n",
            "[LightGBM] [Info] Number of data points in the train set: 2400, number of used features: 18\n",
            "[LightGBM] [Info] Start training from score 112.340000\n",
            "LightGBM: R2 = 0.7435, RMSE = 28.62 Lakhs\n",
            "CatBoost: R2 = 0.7495, RMSE = 28.29 Lakhs\n",
            "SVR: R2 = 0.6818, RMSE = 31.88 Lakhs\n",
            "KNN: R2 = 0.6828, RMSE = 31.83 Lakhs\n",
            "Neural Network: R2 = 0.7576, RMSE = 27.83 Lakhs\n"
          ]
        },
        {
          "output_type": "stream",
          "name": "stderr",
          "text": [
            "/usr/local/lib/python3.11/dist-packages/sklearn/neural_network/_multilayer_perceptron.py:691: ConvergenceWarning: Stochastic Optimizer: Maximum iterations (500) reached and the optimization hasn't converged yet.\n",
            "  warnings.warn(\n"
          ]
        }
      ]
    },
    {
      "cell_type": "code",
      "source": [
        "model_names = list(results.keys())\n",
        "r2_scores = [results[m][\"R2 Score\"] for m in model_names]\n",
        "\n",
        "plt.figure(figsize=(12, 6))\n",
        "plt.barh(model_names, r2_scores, color='skyblue')\n",
        "plt.xlabel(\"R2 Score\")\n",
        "plt.title(\"Model Accuracy Comparison\")\n",
        "plt.xlim(0, 1)\n",
        "plt.grid(True)\n",
        "plt.tight_layout()\n",
        "plt.show()\n"
      ],
      "metadata": {
        "colab": {
          "base_uri": "https://localhost:8080/",
          "height": 569
        },
        "id": "LUJef5dV9u6A",
        "outputId": "5b3a120d-a5eb-4522-f7d9-c96b19074f97"
      },
      "execution_count": null,
      "outputs": [
        {
          "output_type": "display_data",
          "data": {
            "text/plain": [
              "<Figure size 1200x600 with 1 Axes>"
            ],
            "image/png": "[encoded data removed]"
          },
          "metadata": {}
        }
      ]
    },
    {
      "cell_type": "code",
      "source": [
        "print(\"\\n--- Manual House Price Prediction ---\")\n",
        "\n",
        "# Default values\n",
        "default_location = \"Gachibowli\"\n",
        "default_size = \"2 BHK\"\n",
        "default_total_sqft = 1200\n",
        "default_bath = 2\n",
        "default_balcony = 1\n",
        "default_year_built = 2015\n",
        "\n",
        "# Input with default values\n",
        "location = input(f\"Enter Location (e.g., {default_location}): \") or default_location\n",
        "size = input(f\"Enter Size (e.g., {default_size}): \") or default_size\n",
        "total_sqft = input(f\"Enter Total Sqft (e.g., {default_total_sqft}): \")\n",
        "total_sqft = float(total_sqft) if total_sqft else default_total_sqft\n",
        "bath = input(f\"Enter number of Bathrooms (e.g., {default_bath}): \")\n",
        "bath = int(bath) if bath else default_bath\n",
        "balcony = input(f\"Enter number of Balconies (e.g., {default_balcony}): \")\n",
        "balcony = int(balcony) if balcony else default_balcony\n",
        "year_built = input(f\"Enter Year Built (e.g., {default_year_built}): \")\n",
        "year_built = int(year_built) if year_built else default_year_built\n",
        "\n",
        "# Create the DataFrame with user input\n",
        "manual_input = pd.DataFrame([{\n",
        "    \"Location\": location,\n",
        "    \"Size\": size,\n",
        "    \"Total_Sqft\": total_sqft,\n",
        "    \"Bath\": bath,\n",
        "    \"Balcony\": balcony,\n",
        "    \"Year_Built\": year_built\n",
        "}])\n",
        "\n",
        "# Use the best model (highest R2) for prediction\n",
        "best_model_name = max(results, key=lambda x: results[x][\"R2 Score\"])\n",
        "best_pipeline = trained_pipelines[best_model_name]\n",
        "\n",
        "predicted_price = best_pipeline.predict(manual_input)[0]\n",
        "print(f\"\\nPredicted Price (by {best_model_name}): ₹{predicted_price:.2f} Lakhs\")"
      ],
      "metadata": {
        "colab": {
          "base_uri": "https://localhost:8080/"
        },
        "id": "jB4_9mqP9zgA",
        "outputId": "e93ef02b-5082-4116-bb2e-179aa4e09274"
      },
      "execution_count": null,
      "outputs": [
        {
          "output_type": "stream",
          "name": "stdout",
          "text": [
            "\n",
            "--- Manual House Price Prediction ---\n",
            "Enter Location (e.g., Gachibowli): \n",
            "Enter Size (e.g., 2 BHK): \n",
            "Enter Total Sqft (e.g., 1200): \n",
            "Enter number of Bathrooms (e.g., 2): \n",
            "Enter number of Balconies (e.g., 1): \n",
            "Enter Year Built (e.g., 2015): \n",
            "\n",
            "Predicted Price (by Linear Regression): ₹62.04 Lakhs\n"
          ]
        }
      ]
    }
  ],
  "metadata": {
    "colab": {
      "provenance": [],
      "authorship_tag": "ABX9TyPHOFUEDsheff43hVFrEhKY",
      "include_colab_link": true
    },
    "kernelspec": {
      "display_name": "Python 3",
      "name": "python3"
    },
    "language_info": {
      "name": "python"
    }
  },
  "nbformat": 4,
  "nbformat_minor": 0
}